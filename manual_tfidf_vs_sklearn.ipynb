{
 "cells": [
  
  {
   "cell_type": "code",
   "execution_count": null,
   "id": "fb9e464b",
   "metadata": {},
   "outputs": [],
   "source": [
    "\n",
    
    "import math\n",
    "from sklearn.feature_extraction.text import CountVectorizer, TfidfVectorizer\n",
    "import pandas as pd\n"
   ]
  },
  {
   "cell_type": "code",
   "execution_count": null,
   "id": "518ea793",
   "metadata": {},
   "outputs": [],
   "source": [
    "\n",
    
    "corpus = [\n",
    "    'the sun is a star',\n",
    "    'the moon is a satellite',\n",
    "    'the sun and moon are celestial bodies'\n",
    "]\n"
   ]
  },
  {
   "cell_type": "code",
   "execution_count": null,
   "id": "1fc9a725",
   "metadata": {},
   "outputs": [],
   "source": [
    "\n",
    
    "def calculate_tf(sentence):\n",
    "    tf = {}\n",
    "    words = sentence.split()\n",
    "    total_words = len(words)\n",
    "    for word in words:\n",
    "        tf[word] = tf.get(word, 0) + 1\n",
    "    for word in tf:\n",
    "        tf[word] = tf[word] / total_words\n",
    "    return tf\n"
   ]
  },
  {
   "cell_type": "code",
   "execution_count": null,
   "id": "8852ebc8",
   "metadata": {},
   "outputs": [],
   "source": [
    "\n",
    
    "def calculate_idf(all_sentences):\n",
    "    N = len(all_sentences)\n",
    "    idf = {}\n",
    "    all_words = set(word for sentence in all_sentences for word in sentence.split())\n",
    "    for word in all_words:\n",
    "        count = 0\n",
    "        for sentence in all_sentences:\n",
    "            if word in sentence.split():\n",
    "                count += 1\n",
    "        idf[word] = math.log((N + 1) / (count + 1)) + 1  # smoothed IDF\n",
    "    return idf\n"
   ]
  },
  {
   "cell_type": "code",
   "execution_count": null,
   "id": "e26448fa",
   "metadata": {},
   "outputs": [],
   "source": [
    "\n",
    
    "def compute_manual_tfidf(corpus):\n",
    "    tfidf_all = []\n",
    "    idf = calculate_idf(corpus)\n",
    "    for sentence in corpus:\n",
    "        tf = calculate_tf(sentence)\n",
    "        tfidf = {}\n",
    "        for word in tf:\n",
    "            tfidf[word] = tf[word] * idf[word]\n",
    "        tfidf_all.append(tfidf)\n",
    "    return tfidf_all\n"
   ]
  },
  {
   "cell_type": "code",
   "execution_count": null,
   "id": "4cab5ccc",
   "metadata": {},
   "outputs": [],
   "source": [
    "\n",
    
    "my_tfidf = compute_manual_tfidf(corpus)\n",
    "my_tfidf_df = pd.DataFrame(my_tfidf).fillna(0)\n",
    "my_tfidf_df\n"
   ]
  },
  {
   "cell_type": "code",
   "execution_count": null,
   "id": "7c2baa2f",
   "metadata": {},
   "outputs": [],
   "source": [
    "\n",
    
    "count_vec = CountVectorizer()\n",
    "count_matrix = count_vec.fit_transform(corpus)\n",
    "count_df = pd.DataFrame(count_matrix.toarray(), columns=count_vec.get_feature_names_out())\n",
    "count_df\n"
   ]
  },
  {
   "cell_type": "code",
   "execution_count": null,
   "id": "23a79562",
   "metadata": {},
   "outputs": [],
   "source": [
    "\n",
    
    "tfidf_vec = TfidfVectorizer()\n",
    "tfidf_matrix = tfidf_vec.fit_transform(corpus)\n",
    "tfidf_df = pd.DataFrame(tfidf_matrix.toarray(), columns=tfidf_vec.get_feature_names_out())\n",
    "tfidf_df\n"
   ]
  },
  {
   "cell_type": "markdown",
   "id": "2ab35db2",
   "metadata": {},
   "source": [
    "\n",
    
    "- **Manual TF-IDF** shows similar results to **TfidfVectorizer**.\n",
    "- Common words like `\"the\"` have **lower scores** in TF-IDF because they appear in **all documents**.\n",
    "- **TF-IDF** is better than **raw counts** for capturing the importance of unique words.\n"
   ]
  }
 ],
 "metadata": {},
 "nbformat": 4,
 "nbformat_minor": 5
}
